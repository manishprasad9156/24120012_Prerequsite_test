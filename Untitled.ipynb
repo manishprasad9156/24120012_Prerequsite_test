{
  "cells": [
    {
      "cell_type": "markdown",
      "metadata": {},
      "source": [
        "Q1"
      ]
    },
    {
      "cell_type": "markdown",
      "metadata": {},
      "source": [
        "Total Multiplications = n * m * k\n",
        "Total additions = n* m* (k-1) \n",
        "In matrix multiplication involving an n * k matrix and k * m matrix, each element from a row of the first matrix is multiplied by\n",
        "the corresponding element from a column of the second matrix. Multiplying a single row with k elements by a single column with\n",
        "k elements results in k multiplication operations. These products are then summed to create one element in the resulting\n",
        "matrix, which requires k-1 addition operations.\n",
        "\n",
        "Since the second matrix has m columns, each row of the first matrix is multiplied by all m columns, resulting in m * k \n",
        "multiplications and  m * (k-1) additions for each row. Considering there are n rows in the first matrix, the total number\n",
        "of multiplications required is n * m * k, and the total number of additions is n * m * (k-1)."
      ]
    },
    {
      "cell_type": "markdown",
      "metadata": {},
      "source": [
        "Q2"
      ]
    },
    {
      "cell_type": "code",
      "execution_count": 4,
      "metadata": {
        "trusted": true
      },
      "outputs": [
        {
          "name": "stdout",
          "output_type": "stream",
          "text": [
            "Product matrix without using numpy: [[0, 4], [2, 10]]\n",
            "\n",
            "Product using numpy: \n",
            "[[ 0  4]\n",
            " [ 2 10]]\n"
          ]
        }
      ],
      "source": [
        "A = [[1,0,2],[3,1,3]]\n",
        "B = [[0,2],[2,1],[0,1]]\n",
        "\n",
        "result = []\n",
        "num_rows = len(A)\n",
        "num_cols = len(B[0])\n",
        "\n",
        "for i in range(num_rows):\n",
        "    row_result = []\n",
        "    for j in range(num_cols):\n",
        "        cell_value = sum(A[i][k] * B[k][j] for k in range(3))\n",
        "        row_result.append(cell_value)\n",
        "    result.append(row_result)\n",
        "\n",
        "print(f\"Product matrix without using numpy: {result}\\n\")\n",
        "\n",
        "import numpy as np\n",
        "A = np.array([[1,0,2],[3,1,3]])\n",
        "B = np.array([[0,2],[2,1],[0,1]])\n",
        "C = A @ B\n",
        "print(f\"Product using numpy: \\n{C}\")\n"
      ]
    },
    {
      "cell_type": "markdown",
      "metadata": {},
      "source": [
        "Q4"
      ]
    },
    {
      "cell_type": "markdown",
      "metadata": {},
      "source": [
        "The gradient of the given function wrt x is:\n",
        "2xy+y^3(cos(x)) and\n",
        "The gradient of the given function wrt y is:\n",
        "x^2+3y^2(sin(x))"
      ]
    },
    {
      "cell_type": "markdown",
      "metadata": {},
      "source": [
        "Q7"
      ]
    },
    {
      "cell_type": "code",
      "execution_count": 5,
      "metadata": {
        "trusted": true
      },
      "outputs": [],
      "source": [
        "Visiting_Student = {\n",
        "    2022 : {\n",
        "        'CSE': {\n",
        "            'Roll_no' : 24120001,\n",
        "            'Name' : 'Ayush jain',\n",
        "            'Marks' : {\n",
        "                'Maths':95,\n",
        "                'English': 75,\n",
        "                'Science': 85\n",
        "            }\n",
        "        },\n",
        "        'ME': {\n",
        "            'Roll_no' : 202120001,\n",
        "            'Name' : 'Piyush Jain',\n",
        "            'Marks' : {\n",
        "                'Maths':92,\n",
        "                'English': 98,\n",
        "                'Science': 97\n",
        "            }\n",
        "        }\n",
        "    },\n",
        "        \n",
        "    2023 : {\n",
        "        'CSE': {\n",
        "            'Roll_no' : 24120012,\n",
        "            'Name' : 'Manish Prasad',\n",
        "            'Marks' : {\n",
        "                'Maths':92,\n",
        "                'English': 88,\n",
        "                'Science': 97\n",
        "            }\n",
        "        },\n",
        "        'EE': {\n",
        "            'Roll_no' : 20212003,\n",
        "            'Name' : 'OM',\n",
        "            'Marks' : {\n",
        "                'Maths':95,\n",
        "                'English': 45,\n",
        "                'Science': 98\n",
        "            }\n",
        "        }\n",
        "    },\n",
        "        \n",
        "    2024 : {\n",
        "        'CSE': {\n",
        "            'Roll_no' : 24120011,\n",
        "            'Name' : 'Paryu Jain',\n",
        "            'Marks' : {\n",
        "                'Maths':98,\n",
        "                'English': 99,\n",
        "                'Science': 99\n",
        "            }\n",
        "        },\n",
        "        'IT': {\n",
        "            'Roll_no' : 24120016,\n",
        "            'Name' : 'Khysati Jain',\n",
        "            'Marks' : {\n",
        "                'Maths':98,\n",
        "                'English': 98,\n",
        "                'Science': 99\n",
        "            }\n",
        "        }\n",
        "    },\n",
        "        \n",
        "    2025 : {\n",
        "        'CSE': {\n",
        "            'Roll_no' : 24120058,\n",
        "            'Name' : 'Pratik Jain',\n",
        "            'Marks' : {\n",
        "                'Maths':86,\n",
        "                'English': 97,\n",
        "                'Science': 83\n",
        "            }\n",
        "        },\n",
        "        'EE': {\n",
        "            'Roll_no' : 24120056,\n",
        "            'Name' : 'Ishika Pathak',\n",
        "            'Marks' : {\n",
        "                'Maths':96,\n",
        "                'English': 85,\n",
        "                'Science': 97\n",
        "            }\n",
        "        }\n",
        "    }   \n",
        "    \n",
        "}\n"
      ]
    },
    {
      "cell_type": "markdown",
      "metadata": {},
      "source": [
        "Q5"
      ]
    },
    {
      "cell_type": "code",
      "execution_count": 3,
      "metadata": {
        "trusted": true
      },
      "outputs": [
        {
          "name": "stdout",
          "output_type": "stream",
          "text": [
            "Gradient(x,y) from regular approach : (-10.633397539017114, 47.64627648763272)\n",
            "Gradient(x,y) from JAX : (-10.633398056030273,47.64627456665039)\n"
          ]
        }
      ],
      "source": [
        "import math\n",
        "import jax\n",
        "import jax.numpy as jnp\n",
        "\n",
        "def gradient(x,y):\n",
        "    grad_x=2*x*y + y*y*y*math.cos(x)\n",
        "    grad_y=x*x + 3*y*y*math.sin(x)\n",
        "    return(grad_x,grad_y)\n",
        "\n",
        "def f(x,y):\n",
        "    return x*x*y + y*y*y*jnp.sin(x)\n",
        "\n",
        "x=float(input(\"Enter number x : \"))\n",
        "y=float(input(\"Enter number y : \"))\n",
        "\n",
        "grad_f=jax.grad(f,argnums=(0,1))\n",
        "\n",
        "Grad_x,Grad_y=grad_f(x,y)\n",
        "\n",
        "print(f\"Gradient(x,y) from regular approach : {gradient(x,y)}\")\n",
        "print(f\"Gradient(x,y) from JAX : ({Grad_x},{Grad_y})\")"
      ]
    },
    {
      "cell_type": "code",
      "execution_count": null,
      "metadata": {},
      "outputs": [],
      "source": []
    }
  ],
  "metadata": {
    "kernelspec": {
      "display_name": "Python 3",
      "language": "python",
      "name": "python3"
    },
    "language_info": {
      "codemirror_mode": {
        "name": "ipython",
        "version": 3
      },
      "file_extension": ".py",
      "mimetype": "text/x-python",
      "name": "python",
      "nbconvert_exporter": "python",
      "pygments_lexer": "ipython3",
      "version": "3.10.13"
    }
  },
  "nbformat": 4,
  "nbformat_minor": 4
}
