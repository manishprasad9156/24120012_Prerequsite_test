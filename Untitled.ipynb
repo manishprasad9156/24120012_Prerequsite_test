{
  "metadata": {
    "kernelspec": {
      "name": "python",
      "display_name": "Python (Pyodide)",
      "language": "python"
    },
    "language_info": {
      "codemirror_mode": {
        "name": "python",
        "version": 3
      },
      "file_extension": ".py",
      "mimetype": "text/x-python",
      "name": "python",
      "nbconvert_exporter": "python",
      "pygments_lexer": "ipython3",
      "version": "3.8"
    }
  },
  "nbformat_minor": 4,
  "nbformat": 4,
  "cells": [
    {
      "cell_type": "raw",
      "source": "Q1",
      "metadata": {}
    },
    {
      "cell_type": "raw",
      "source": "Total Multiplications = n*m*k\nTotal additions = n*m*(k-1) \nIn matrix multiplication involving an n*k matrix and k*m matrix, each element from a row of the first matrix is multiplied by\nthe corresponding element from a column of the second matrix. Multiplying a single row with k elements by a single column with\nk elements results in k multiplication operations. These products are then summed to create one element in the resulting\nmatrix, which requires k-1 addition operations.\n\nSince the second matrix has m columns, each row of the first matrix is multiplied by all m columns, resulting in m*k \nmultiplications and  m*(k-1) additions for each row. Considering there are n rows in the first matrix, the total number\nof multiplications required is n*m*k, and the total number of additions is n*m*(k-1).",
      "metadata": {}
    },
    {
      "cell_type": "raw",
      "source": "Q2",
      "metadata": {}
    },
    {
      "cell_type": "code",
      "source": "A = [[1,0,2],[3,1,3]]\nB = [[0,2],[2,1],[0,1]]\n\nresult = []\nnum_rows = len(list1)\nnum_cols = len(list2[0])\n\nfor i in range(num_rows):\n    row_result = []\n    for j in range(num_cols):\n        cell_value = sum(list1[i][k] * list2[k][j] for k in range(3))\n        row_result.append(cell_value)\n    result.append(row_result)\n\nprint(f\"Product matrix without using numpy: {result}\\n\")\n\nimport numpy as np\nA = np.array([[1,0,2],[3,1,3]])\nB = np.array([[0,2],[2,1],[0,1]])\nC = A @ B\nprint(f\"Product using numpy: \\n{C}\")\n",
      "metadata": {
        "trusted": true
      },
      "outputs": [
        {
          "name": "stdout",
          "text": "Product matrix without using numpy: [[0, 4], [2, 10]]\n\nProduct using numpy: \n[[ 0  4]\n [ 2 10]]\n",
          "output_type": "stream"
        }
      ],
      "execution_count": 29
    },
    {
      "cell_type": "raw",
      "source": "Q4",
      "metadata": {}
    },
    {
      "cell_type": "raw",
      "source": "The gradient of the given function wrt x is:\n2xy+y'3(cos(x))\nThe gradient of the given function wrt y is:\nx'2+3y'2(sin(x))",
      "metadata": {}
    },
    {
      "cell_type": "raw",
      "source": "Q7",
      "metadata": {}
    },
    {
      "cell_type": "code",
      "source": "Visiting_Student = {\n    2022 : {\n        'CSE': {\n            'Roll_no' : 24120001,\n            'Name' : 'Ayush jain',\n            'Marks' : {\n                'Maths':95,\n                'English': 75,\n                'Science': 85\n            }\n        },\n        'ME': {\n            'Roll_no' : 202120001,\n            'Name' : 'Piyush Jain',\n            'Marks' : {\n                'Maths':92,\n                'English': 98,\n                'Science': 97\n            }\n        }\n    },\n        \n    2023 : {\n        'CSE': {\n            'Roll_no' : 24120012,\n            'Name' : 'Manish Prasad',\n            'Marks' : {\n                'Maths':92,\n                'English': 88,\n                'Science': 97\n            }\n        },\n        'EE': {\n            'Roll_no' : 20212003,\n            'Name' : 'OM',\n            'Marks' : {\n                'Maths':95,\n                'English': 45,\n                'Science': 98\n            }\n        }\n    },\n        \n    2024 : {\n        'CSE': {\n            'Roll_no' : 24120011,\n            'Name' : 'Paryu Jain',\n            'Marks' : {\n                'Maths':98,\n                'English': 99,\n                'Science': 99\n            }\n        },\n        'IT': {\n            'Roll_no' : 24120016,\n            'Name' : 'Khysati Jain',\n            'Marks' : {\n                'Maths':98,\n                'English': 98,\n                'Science': 99\n            }\n        }\n    },\n        \n    2025 : {\n        'CSE': {\n            'Roll_no' : 24120058,\n            'Name' : 'Pratik Jain',\n            'Marks' : {\n                'Maths':86,\n                'English': 97,\n                'Science': 83\n            }\n        },\n        'EE': {\n            'Roll_no' : 24120056,\n            'Name' : 'Ishika Pathak',\n            'Marks' : {\n                'Maths':96,\n                'English': 85,\n                'Science': 97\n            }\n        }\n    }   \n    \n}\n",
      "metadata": {
        "trusted": true
      },
      "outputs": [],
      "execution_count": 33
    },
    {
      "cell_type": "code",
      "source": "",
      "metadata": {
        "trusted": true
      },
      "outputs": [],
      "execution_count": null
    }
  ]
}